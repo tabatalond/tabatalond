{
  "nbformat": 4,
  "nbformat_minor": 0,
  "metadata": {
    "colab": {
      "provenance": [],
      "authorship_tag": "ABX9TyPImUGB6xEX9pAmasqCVVGP",
      "include_colab_link": true
    },
    "kernelspec": {
      "name": "python3",
      "display_name": "Python 3"
    },
    "language_info": {
      "name": "python"
    }
  },
  "cells": [
    {
      "cell_type": "markdown",
      "metadata": {
        "id": "view-in-github",
        "colab_type": "text"
      },
      "source": [
        "<a href=\"https://colab.research.google.com/github/tabatalond/tabatalond/blob/main/2025_class_10_28.ipynb\" target=\"_parent\"><img src=\"https://colab.research.google.com/assets/colab-badge.svg\" alt=\"Open In Colab\"/></a>"
      ]
    },
    {
      "cell_type": "code",
      "source": [
        "# 日本語フォントのインストール\n",
        "!apt-get -y install fonts-ipafont-gothic"
      ],
      "metadata": {
        "id": "-EO4nXBnnmbI",
        "outputId": "3b5a39cc-ec80-4be9-a439-be559857c5e9",
        "colab": {
          "base_uri": "https://localhost:8080/"
        }
      },
      "execution_count": 17,
      "outputs": [
        {
          "output_type": "stream",
          "name": "stdout",
          "text": [
            "Reading package lists... Done\n",
            "Building dependency tree... Done\n",
            "Reading state information... Done\n",
            "The following additional packages will be installed:\n",
            "  fonts-ipafont-mincho\n",
            "The following NEW packages will be installed:\n",
            "  fonts-ipafont-gothic fonts-ipafont-mincho\n",
            "0 upgraded, 2 newly installed, 0 to remove and 38 not upgraded.\n",
            "Need to get 8,237 kB of archives.\n",
            "After this operation, 28.7 MB of additional disk space will be used.\n",
            "Get:1 http://archive.ubuntu.com/ubuntu jammy/universe amd64 fonts-ipafont-gothic all 00303-21ubuntu1 [3,513 kB]\n",
            "Get:2 http://archive.ubuntu.com/ubuntu jammy/universe amd64 fonts-ipafont-mincho all 00303-21ubuntu1 [4,724 kB]\n",
            "Fetched 8,237 kB in 0s (24.7 MB/s)\n",
            "Selecting previously unselected package fonts-ipafont-gothic.\n",
            "(Reading database ... 126718 files and directories currently installed.)\n",
            "Preparing to unpack .../fonts-ipafont-gothic_00303-21ubuntu1_all.deb ...\n",
            "Unpacking fonts-ipafont-gothic (00303-21ubuntu1) ...\n",
            "Selecting previously unselected package fonts-ipafont-mincho.\n",
            "Preparing to unpack .../fonts-ipafont-mincho_00303-21ubuntu1_all.deb ...\n",
            "Unpacking fonts-ipafont-mincho (00303-21ubuntu1) ...\n",
            "Setting up fonts-ipafont-mincho (00303-21ubuntu1) ...\n",
            "update-alternatives: using /usr/share/fonts/opentype/ipafont-mincho/ipam.ttf to provide /usr/share/fonts/truetype/fonts-japanese-mincho.ttf (fonts-japanese-mincho.ttf) in auto mode\n",
            "Setting up fonts-ipafont-gothic (00303-21ubuntu1) ...\n",
            "update-alternatives: using /usr/share/fonts/opentype/ipafont-gothic/ipag.ttf to provide /usr/share/fonts/truetype/fonts-japanese-gothic.ttf (fonts-japanese-gothic.ttf) in auto mode\n",
            "Processing triggers for fontconfig (2.13.1-4.2ubuntu5) ...\n"
          ]
        }
      ]
    },
    {
      "cell_type": "code",
      "execution_count": 18,
      "metadata": {
        "id": "HKbxI8UndOP3"
      },
      "outputs": [],
      "source": [
        "import pandas as pd\n",
        "import matplotlib.pyplot as plt"
      ]
    },
    {
      "cell_type": "code",
      "source": [
        "# 日本語フォントを指定（Windowsの場合）\n",
        "plt.rcParams['font.family'] = 'MS Gothic'  # または 'MS Mincho' でもOK\n",
        "plt.rcParams['axes.unicode_minus'] = False  # マイナス記号の文字化け防止\n"
      ],
      "metadata": {
        "id": "63HmYzQAnU3n"
      },
      "execution_count": 13,
      "outputs": []
    },
    {
      "cell_type": "code",
      "source": [
        "afgan=pd.read_csv(\"/content/afghan.csv\")"
      ],
      "metadata": {
        "id": "C20udMY3d4y4"
      },
      "execution_count": 14,
      "outputs": []
    },
    {
      "cell_type": "code",
      "source": [
        "# 各列ごとの欠損値数を表示\n",
        "print(\"各列の欠損値数:\")\n",
        "print(afgan.isnull().sum())"
      ],
      "metadata": {
        "id": "VBBMeNzXehKw",
        "outputId": "194469bd-7415-4b6d-c73a-cffa15822a66",
        "colab": {
          "base_uri": "https://localhost:8080/"
        }
      },
      "execution_count": 15,
      "outputs": [
        {
          "output_type": "stream",
          "name": "stdout",
          "text": [
            "各列の欠損値数:\n",
            "province                 0\n",
            "district                 0\n",
            "village.id               0\n",
            "age                      0\n",
            "educ.years               0\n",
            "employed                 0\n",
            "income                 154\n",
            "violent.exp.ISAF        25\n",
            "violent.exp.taliban     54\n",
            "list.group               0\n",
            "list.response            0\n",
            "dtype: int64\n"
          ]
        }
      ]
    },
    {
      "cell_type": "code",
      "source": [
        "# listwise　除去\n",
        "# 欠損値を含む行を削除（リストワイズ除去）\n",
        "afgan.dropna(inplace=True)\n",
        "\n",
        "# 結果の確認\n",
        "print(\"除去後の行数:\", len(afgan))\n"
      ],
      "metadata": {
        "id": "_J3NPZBXfnDn",
        "outputId": "f8a1e791-be5a-481a-cd5f-9fd80ea9641b",
        "colab": {
          "base_uri": "https://localhost:8080/"
        }
      },
      "execution_count": 4,
      "outputs": [
        {
          "output_type": "stream",
          "name": "stdout",
          "text": [
            "除去後の行数: 2554\n"
          ]
        }
      ]
    },
    {
      "cell_type": "code",
      "source": [
        "import pandas as pd\n",
        "import matplotlib.pyplot as plt\n",
        "\n",
        "# データ読み込み\n",
        "afgan = pd.read_csv(\"/content/afghan.csv\")\n",
        "\n",
        "# === 欠損を含めたカテゴリーを作成 ===\n",
        "def categorize_damage(x):\n",
        "    if pd.isna(x):\n",
        "        return \"回答無\"\n",
        "    elif x == 1:\n",
        "        return \"被害あり\"\n",
        "    else:\n",
        "        return \"被害なし\"\n",
        "\n",
        "afgan[\"ISAF_status\"] = afgan[\"violent.exp.ISAF\"].apply(categorize_damage)\n",
        "afgan[\"Taliban_status\"] = afgan[\"violent.exp.taliban\"].apply(categorize_damage)\n",
        "\n",
        "# === 割合（％）計算 ===\n",
        "isaf_ratio = afgan[\"ISAF_status\"].value_counts(normalize=True) * 100\n",
        "taliban_ratio = afgan[\"Taliban_status\"].value_counts(normalize=True) * 100\n",
        "\n",
        "# データフレーム化して並べる\n",
        "df_ratio = pd.DataFrame({\n",
        "    \"ISAF\": isaf_ratio,\n",
        "    \"Taliban\": taliban_ratio\n",
        "}).T  # 行と列を入れ替えて見やすく\n",
        "\n",
        "print(\"各グループの回答者比率（％）:\")\n",
        "print(df_ratio)\n",
        "\n",
        "# === 可視化 ===\n",
        "df_ratio.plot(kind=\"bar\", stacked=False, figsize=(8,5))\n",
        "plt.title(\"ISAFとタリバンに対する被害経験比率\")\n",
        "plt.ylabel(\"回答者比率（％）\")\n",
        "plt.xlabel(\"グループ\")\n",
        "plt.xticks(rotation=0)\n",
        "plt.legend(title=\"被害経験\")\n",
        "plt.grid(axis=\"y\", linestyle=\"--\", alpha=0.7)\n",
        "plt.tight_layout()\n",
        "plt.show()\n"
      ],
      "metadata": {
        "id": "kH-lb2sOhpFN",
        "colab": {
          "base_uri": "https://localhost:8080/",
          "height": 1000
        },
        "outputId": "3679794c-2a65-4b73-91c2-a7e8280b13a1"
      },
      "execution_count": 16,
      "outputs": [
        {
          "output_type": "stream",
          "name": "stderr",
          "text": [
            "WARNING:matplotlib.font_manager:findfont: Font family 'MS Gothic' not found.\n",
            "WARNING:matplotlib.font_manager:findfont: Font family 'MS Gothic' not found.\n",
            "WARNING:matplotlib.font_manager:findfont: Font family 'MS Gothic' not found.\n",
            "WARNING:matplotlib.font_manager:findfont: Font family 'MS Gothic' not found.\n",
            "/tmp/ipython-input-3105459831.py:40: UserWarning: Glyph 12464 (\\N{KATAKANA LETTER GU}) missing from font(s) DejaVu Sans.\n",
            "  plt.tight_layout()\n",
            "/tmp/ipython-input-3105459831.py:40: UserWarning: Glyph 12523 (\\N{KATAKANA LETTER RU}) missing from font(s) DejaVu Sans.\n",
            "  plt.tight_layout()\n",
            "/tmp/ipython-input-3105459831.py:40: UserWarning: Glyph 12540 (\\N{KATAKANA-HIRAGANA PROLONGED SOUND MARK}) missing from font(s) DejaVu Sans.\n",
            "  plt.tight_layout()\n",
            "/tmp/ipython-input-3105459831.py:40: UserWarning: Glyph 12503 (\\N{KATAKANA LETTER PU}) missing from font(s) DejaVu Sans.\n",
            "  plt.tight_layout()\n",
            "WARNING:matplotlib.font_manager:findfont: Font family 'MS Gothic' not found.\n",
            "WARNING:matplotlib.font_manager:findfont: Font family 'MS Gothic' not found.\n",
            "WARNING:matplotlib.font_manager:findfont: Font family 'MS Gothic' not found.\n",
            "WARNING:matplotlib.font_manager:findfont: Font family 'MS Gothic' not found.\n",
            "WARNING:matplotlib.font_manager:findfont: Font family 'MS Gothic' not found.\n",
            "WARNING:matplotlib.font_manager:findfont: Font family 'MS Gothic' not found.\n",
            "WARNING:matplotlib.font_manager:findfont: Font family 'MS Gothic' not found.\n",
            "WARNING:matplotlib.font_manager:findfont: Font family 'MS Gothic' not found.\n",
            "/tmp/ipython-input-3105459831.py:40: UserWarning: Glyph 22238 (\\N{CJK UNIFIED IDEOGRAPH-56DE}) missing from font(s) DejaVu Sans.\n",
            "  plt.tight_layout()\n",
            "/tmp/ipython-input-3105459831.py:40: UserWarning: Glyph 31572 (\\N{CJK UNIFIED IDEOGRAPH-7B54}) missing from font(s) DejaVu Sans.\n",
            "  plt.tight_layout()\n",
            "/tmp/ipython-input-3105459831.py:40: UserWarning: Glyph 32773 (\\N{CJK UNIFIED IDEOGRAPH-8005}) missing from font(s) DejaVu Sans.\n",
            "  plt.tight_layout()\n",
            "/tmp/ipython-input-3105459831.py:40: UserWarning: Glyph 27604 (\\N{CJK UNIFIED IDEOGRAPH-6BD4}) missing from font(s) DejaVu Sans.\n",
            "  plt.tight_layout()\n",
            "/tmp/ipython-input-3105459831.py:40: UserWarning: Glyph 29575 (\\N{CJK UNIFIED IDEOGRAPH-7387}) missing from font(s) DejaVu Sans.\n",
            "  plt.tight_layout()\n",
            "/tmp/ipython-input-3105459831.py:40: UserWarning: Glyph 65288 (\\N{FULLWIDTH LEFT PARENTHESIS}) missing from font(s) DejaVu Sans.\n",
            "  plt.tight_layout()\n",
            "/tmp/ipython-input-3105459831.py:40: UserWarning: Glyph 65285 (\\N{FULLWIDTH PERCENT SIGN}) missing from font(s) DejaVu Sans.\n",
            "  plt.tight_layout()\n",
            "/tmp/ipython-input-3105459831.py:40: UserWarning: Glyph 65289 (\\N{FULLWIDTH RIGHT PARENTHESIS}) missing from font(s) DejaVu Sans.\n",
            "  plt.tight_layout()\n",
            "WARNING:matplotlib.font_manager:findfont: Font family 'MS Gothic' not found.\n",
            "WARNING:matplotlib.font_manager:findfont: Font family 'MS Gothic' not found.\n",
            "/tmp/ipython-input-3105459831.py:40: UserWarning: Glyph 12392 (\\N{HIRAGANA LETTER TO}) missing from font(s) DejaVu Sans.\n",
            "  plt.tight_layout()\n",
            "/tmp/ipython-input-3105459831.py:40: UserWarning: Glyph 12479 (\\N{KATAKANA LETTER TA}) missing from font(s) DejaVu Sans.\n",
            "  plt.tight_layout()\n",
            "/tmp/ipython-input-3105459831.py:40: UserWarning: Glyph 12522 (\\N{KATAKANA LETTER RI}) missing from font(s) DejaVu Sans.\n",
            "  plt.tight_layout()\n",
            "/tmp/ipython-input-3105459831.py:40: UserWarning: Glyph 12496 (\\N{KATAKANA LETTER BA}) missing from font(s) DejaVu Sans.\n",
            "  plt.tight_layout()\n",
            "/tmp/ipython-input-3105459831.py:40: UserWarning: Glyph 12531 (\\N{KATAKANA LETTER N}) missing from font(s) DejaVu Sans.\n",
            "  plt.tight_layout()\n",
            "/tmp/ipython-input-3105459831.py:40: UserWarning: Glyph 12395 (\\N{HIRAGANA LETTER NI}) missing from font(s) DejaVu Sans.\n",
            "  plt.tight_layout()\n",
            "/tmp/ipython-input-3105459831.py:40: UserWarning: Glyph 23550 (\\N{CJK UNIFIED IDEOGRAPH-5BFE}) missing from font(s) DejaVu Sans.\n",
            "  plt.tight_layout()\n",
            "/tmp/ipython-input-3105459831.py:40: UserWarning: Glyph 12377 (\\N{HIRAGANA LETTER SU}) missing from font(s) DejaVu Sans.\n",
            "  plt.tight_layout()\n",
            "/tmp/ipython-input-3105459831.py:40: UserWarning: Glyph 12427 (\\N{HIRAGANA LETTER RU}) missing from font(s) DejaVu Sans.\n",
            "  plt.tight_layout()\n",
            "/tmp/ipython-input-3105459831.py:40: UserWarning: Glyph 34987 (\\N{CJK UNIFIED IDEOGRAPH-88AB}) missing from font(s) DejaVu Sans.\n",
            "  plt.tight_layout()\n",
            "/tmp/ipython-input-3105459831.py:40: UserWarning: Glyph 23475 (\\N{CJK UNIFIED IDEOGRAPH-5BB3}) missing from font(s) DejaVu Sans.\n",
            "  plt.tight_layout()\n",
            "/tmp/ipython-input-3105459831.py:40: UserWarning: Glyph 32076 (\\N{CJK UNIFIED IDEOGRAPH-7D4C}) missing from font(s) DejaVu Sans.\n",
            "  plt.tight_layout()\n",
            "/tmp/ipython-input-3105459831.py:40: UserWarning: Glyph 39443 (\\N{CJK UNIFIED IDEOGRAPH-9A13}) missing from font(s) DejaVu Sans.\n",
            "  plt.tight_layout()\n",
            "WARNING:matplotlib.font_manager:findfont: Font family 'MS Gothic' not found.\n",
            "WARNING:matplotlib.font_manager:findfont: Font family 'MS Gothic' not found.\n",
            "WARNING:matplotlib.font_manager:findfont: Font family 'MS Gothic' not found.\n",
            "WARNING:matplotlib.font_manager:findfont: Font family 'MS Gothic' not found.\n",
            "/tmp/ipython-input-3105459831.py:40: UserWarning: Glyph 12394 (\\N{HIRAGANA LETTER NA}) missing from font(s) DejaVu Sans.\n",
            "  plt.tight_layout()\n",
            "/tmp/ipython-input-3105459831.py:40: UserWarning: Glyph 12375 (\\N{HIRAGANA LETTER SI}) missing from font(s) DejaVu Sans.\n",
            "  plt.tight_layout()\n",
            "WARNING:matplotlib.font_manager:findfont: Font family 'MS Gothic' not found.\n",
            "WARNING:matplotlib.font_manager:findfont: Font family 'MS Gothic' not found.\n",
            "/tmp/ipython-input-3105459831.py:40: UserWarning: Glyph 12354 (\\N{HIRAGANA LETTER A}) missing from font(s) DejaVu Sans.\n",
            "  plt.tight_layout()\n",
            "/tmp/ipython-input-3105459831.py:40: UserWarning: Glyph 12426 (\\N{HIRAGANA LETTER RI}) missing from font(s) DejaVu Sans.\n",
            "  plt.tight_layout()\n",
            "WARNING:matplotlib.font_manager:findfont: Font family 'MS Gothic' not found.\n",
            "WARNING:matplotlib.font_manager:findfont: Font family 'MS Gothic' not found.\n",
            "/tmp/ipython-input-3105459831.py:40: UserWarning: Glyph 28961 (\\N{CJK UNIFIED IDEOGRAPH-7121}) missing from font(s) DejaVu Sans.\n",
            "  plt.tight_layout()\n",
            "WARNING:matplotlib.font_manager:findfont: Font family 'MS Gothic' not found.\n",
            "WARNING:matplotlib.font_manager:findfont: Font family 'MS Gothic' not found.\n",
            "WARNING:matplotlib.font_manager:findfont: Font family 'MS Gothic' not found.\n",
            "WARNING:matplotlib.font_manager:findfont: Font family 'MS Gothic' not found.\n",
            "WARNING:matplotlib.font_manager:findfont: Font family 'MS Gothic' not found.\n",
            "WARNING:matplotlib.font_manager:findfont: Font family 'MS Gothic' not found.\n",
            "WARNING:matplotlib.font_manager:findfont: Font family 'MS Gothic' not found.\n",
            "WARNING:matplotlib.font_manager:findfont: Font family 'MS Gothic' not found.\n",
            "WARNING:matplotlib.font_manager:findfont: Font family 'MS Gothic' not found.\n",
            "WARNING:matplotlib.font_manager:findfont: Font family 'MS Gothic' not found.\n",
            "WARNING:matplotlib.font_manager:findfont: Font family 'MS Gothic' not found.\n",
            "WARNING:matplotlib.font_manager:findfont: Font family 'MS Gothic' not found.\n",
            "WARNING:matplotlib.font_manager:findfont: Font family 'MS Gothic' not found.\n",
            "WARNING:matplotlib.font_manager:findfont: Font family 'MS Gothic' not found.\n",
            "WARNING:matplotlib.font_manager:findfont: Font family 'MS Gothic' not found.\n",
            "WARNING:matplotlib.font_manager:findfont: Font family 'MS Gothic' not found.\n",
            "WARNING:matplotlib.font_manager:findfont: Font family 'MS Gothic' not found.\n",
            "WARNING:matplotlib.font_manager:findfont: Font family 'MS Gothic' not found.\n",
            "WARNING:matplotlib.font_manager:findfont: Font family 'MS Gothic' not found.\n",
            "WARNING:matplotlib.font_manager:findfont: Font family 'MS Gothic' not found.\n",
            "WARNING:matplotlib.font_manager:findfont: Font family 'MS Gothic' not found.\n",
            "WARNING:matplotlib.font_manager:findfont: Font family 'MS Gothic' not found.\n",
            "WARNING:matplotlib.font_manager:findfont: Font family 'MS Gothic' not found.\n",
            "WARNING:matplotlib.font_manager:findfont: Font family 'MS Gothic' not found.\n",
            "WARNING:matplotlib.font_manager:findfont: Font family 'MS Gothic' not found.\n"
          ]
        },
        {
          "output_type": "stream",
          "name": "stdout",
          "text": [
            "各グループの回答者比率（％）:\n",
            "              被害なし       被害あり       回答無\n",
            "ISAF     61.946260  37.145969  0.907771\n",
            "Taliban  65.795207  32.244009  1.960784\n"
          ]
        },
        {
          "output_type": "stream",
          "name": "stderr",
          "text": [
            "WARNING:matplotlib.font_manager:findfont: Font family 'MS Gothic' not found.\n",
            "WARNING:matplotlib.font_manager:findfont: Font family 'MS Gothic' not found.\n",
            "WARNING:matplotlib.font_manager:findfont: Font family 'MS Gothic' not found.\n",
            "WARNING:matplotlib.font_manager:findfont: Font family 'MS Gothic' not found.\n",
            "WARNING:matplotlib.font_manager:findfont: Font family 'MS Gothic' not found.\n",
            "/usr/local/lib/python3.12/dist-packages/IPython/core/pylabtools.py:151: UserWarning: Glyph 22238 (\\N{CJK UNIFIED IDEOGRAPH-56DE}) missing from font(s) DejaVu Sans.\n",
            "  fig.canvas.print_figure(bytes_io, **kw)\n",
            "/usr/local/lib/python3.12/dist-packages/IPython/core/pylabtools.py:151: UserWarning: Glyph 31572 (\\N{CJK UNIFIED IDEOGRAPH-7B54}) missing from font(s) DejaVu Sans.\n",
            "  fig.canvas.print_figure(bytes_io, **kw)\n",
            "/usr/local/lib/python3.12/dist-packages/IPython/core/pylabtools.py:151: UserWarning: Glyph 32773 (\\N{CJK UNIFIED IDEOGRAPH-8005}) missing from font(s) DejaVu Sans.\n",
            "  fig.canvas.print_figure(bytes_io, **kw)\n",
            "/usr/local/lib/python3.12/dist-packages/IPython/core/pylabtools.py:151: UserWarning: Glyph 27604 (\\N{CJK UNIFIED IDEOGRAPH-6BD4}) missing from font(s) DejaVu Sans.\n",
            "  fig.canvas.print_figure(bytes_io, **kw)\n",
            "/usr/local/lib/python3.12/dist-packages/IPython/core/pylabtools.py:151: UserWarning: Glyph 29575 (\\N{CJK UNIFIED IDEOGRAPH-7387}) missing from font(s) DejaVu Sans.\n",
            "  fig.canvas.print_figure(bytes_io, **kw)\n",
            "/usr/local/lib/python3.12/dist-packages/IPython/core/pylabtools.py:151: UserWarning: Glyph 65288 (\\N{FULLWIDTH LEFT PARENTHESIS}) missing from font(s) DejaVu Sans.\n",
            "  fig.canvas.print_figure(bytes_io, **kw)\n",
            "/usr/local/lib/python3.12/dist-packages/IPython/core/pylabtools.py:151: UserWarning: Glyph 65285 (\\N{FULLWIDTH PERCENT SIGN}) missing from font(s) DejaVu Sans.\n",
            "  fig.canvas.print_figure(bytes_io, **kw)\n",
            "/usr/local/lib/python3.12/dist-packages/IPython/core/pylabtools.py:151: UserWarning: Glyph 65289 (\\N{FULLWIDTH RIGHT PARENTHESIS}) missing from font(s) DejaVu Sans.\n",
            "  fig.canvas.print_figure(bytes_io, **kw)\n",
            "WARNING:matplotlib.font_manager:findfont: Font family 'MS Gothic' not found.\n",
            "WARNING:matplotlib.font_manager:findfont: Font family 'MS Gothic' not found.\n",
            "/usr/local/lib/python3.12/dist-packages/IPython/core/pylabtools.py:151: UserWarning: Glyph 12392 (\\N{HIRAGANA LETTER TO}) missing from font(s) DejaVu Sans.\n",
            "  fig.canvas.print_figure(bytes_io, **kw)\n",
            "/usr/local/lib/python3.12/dist-packages/IPython/core/pylabtools.py:151: UserWarning: Glyph 12479 (\\N{KATAKANA LETTER TA}) missing from font(s) DejaVu Sans.\n",
            "  fig.canvas.print_figure(bytes_io, **kw)\n",
            "/usr/local/lib/python3.12/dist-packages/IPython/core/pylabtools.py:151: UserWarning: Glyph 12522 (\\N{KATAKANA LETTER RI}) missing from font(s) DejaVu Sans.\n",
            "  fig.canvas.print_figure(bytes_io, **kw)\n",
            "/usr/local/lib/python3.12/dist-packages/IPython/core/pylabtools.py:151: UserWarning: Glyph 12496 (\\N{KATAKANA LETTER BA}) missing from font(s) DejaVu Sans.\n",
            "  fig.canvas.print_figure(bytes_io, **kw)\n",
            "/usr/local/lib/python3.12/dist-packages/IPython/core/pylabtools.py:151: UserWarning: Glyph 12531 (\\N{KATAKANA LETTER N}) missing from font(s) DejaVu Sans.\n",
            "  fig.canvas.print_figure(bytes_io, **kw)\n",
            "/usr/local/lib/python3.12/dist-packages/IPython/core/pylabtools.py:151: UserWarning: Glyph 12395 (\\N{HIRAGANA LETTER NI}) missing from font(s) DejaVu Sans.\n",
            "  fig.canvas.print_figure(bytes_io, **kw)\n",
            "/usr/local/lib/python3.12/dist-packages/IPython/core/pylabtools.py:151: UserWarning: Glyph 23550 (\\N{CJK UNIFIED IDEOGRAPH-5BFE}) missing from font(s) DejaVu Sans.\n",
            "  fig.canvas.print_figure(bytes_io, **kw)\n",
            "/usr/local/lib/python3.12/dist-packages/IPython/core/pylabtools.py:151: UserWarning: Glyph 12377 (\\N{HIRAGANA LETTER SU}) missing from font(s) DejaVu Sans.\n",
            "  fig.canvas.print_figure(bytes_io, **kw)\n",
            "/usr/local/lib/python3.12/dist-packages/IPython/core/pylabtools.py:151: UserWarning: Glyph 12427 (\\N{HIRAGANA LETTER RU}) missing from font(s) DejaVu Sans.\n",
            "  fig.canvas.print_figure(bytes_io, **kw)\n",
            "/usr/local/lib/python3.12/dist-packages/IPython/core/pylabtools.py:151: UserWarning: Glyph 34987 (\\N{CJK UNIFIED IDEOGRAPH-88AB}) missing from font(s) DejaVu Sans.\n",
            "  fig.canvas.print_figure(bytes_io, **kw)\n",
            "/usr/local/lib/python3.12/dist-packages/IPython/core/pylabtools.py:151: UserWarning: Glyph 23475 (\\N{CJK UNIFIED IDEOGRAPH-5BB3}) missing from font(s) DejaVu Sans.\n",
            "  fig.canvas.print_figure(bytes_io, **kw)\n",
            "/usr/local/lib/python3.12/dist-packages/IPython/core/pylabtools.py:151: UserWarning: Glyph 32076 (\\N{CJK UNIFIED IDEOGRAPH-7D4C}) missing from font(s) DejaVu Sans.\n",
            "  fig.canvas.print_figure(bytes_io, **kw)\n",
            "/usr/local/lib/python3.12/dist-packages/IPython/core/pylabtools.py:151: UserWarning: Glyph 39443 (\\N{CJK UNIFIED IDEOGRAPH-9A13}) missing from font(s) DejaVu Sans.\n",
            "  fig.canvas.print_figure(bytes_io, **kw)\n",
            "WARNING:matplotlib.font_manager:findfont: Font family 'MS Gothic' not found.\n",
            "WARNING:matplotlib.font_manager:findfont: Font family 'MS Gothic' not found.\n",
            "WARNING:matplotlib.font_manager:findfont: Font family 'MS Gothic' not found.\n",
            "WARNING:matplotlib.font_manager:findfont: Font family 'MS Gothic' not found.\n",
            "WARNING:matplotlib.font_manager:findfont: Font family 'MS Gothic' not found.\n",
            "/usr/local/lib/python3.12/dist-packages/IPython/core/pylabtools.py:151: UserWarning: Glyph 12464 (\\N{KATAKANA LETTER GU}) missing from font(s) DejaVu Sans.\n",
            "  fig.canvas.print_figure(bytes_io, **kw)\n",
            "/usr/local/lib/python3.12/dist-packages/IPython/core/pylabtools.py:151: UserWarning: Glyph 12523 (\\N{KATAKANA LETTER RU}) missing from font(s) DejaVu Sans.\n",
            "  fig.canvas.print_figure(bytes_io, **kw)\n",
            "/usr/local/lib/python3.12/dist-packages/IPython/core/pylabtools.py:151: UserWarning: Glyph 12540 (\\N{KATAKANA-HIRAGANA PROLONGED SOUND MARK}) missing from font(s) DejaVu Sans.\n",
            "  fig.canvas.print_figure(bytes_io, **kw)\n",
            "/usr/local/lib/python3.12/dist-packages/IPython/core/pylabtools.py:151: UserWarning: Glyph 12503 (\\N{KATAKANA LETTER PU}) missing from font(s) DejaVu Sans.\n",
            "  fig.canvas.print_figure(bytes_io, **kw)\n",
            "WARNING:matplotlib.font_manager:findfont: Font family 'MS Gothic' not found.\n",
            "WARNING:matplotlib.font_manager:findfont: Font family 'MS Gothic' not found.\n",
            "WARNING:matplotlib.font_manager:findfont: Font family 'MS Gothic' not found.\n",
            "WARNING:matplotlib.font_manager:findfont: Font family 'MS Gothic' not found.\n",
            "WARNING:matplotlib.font_manager:findfont: Font family 'MS Gothic' not found.\n",
            "WARNING:matplotlib.font_manager:findfont: Font family 'MS Gothic' not found.\n",
            "WARNING:matplotlib.font_manager:findfont: Font family 'MS Gothic' not found.\n",
            "WARNING:matplotlib.font_manager:findfont: Font family 'MS Gothic' not found.\n",
            "WARNING:matplotlib.font_manager:findfont: Font family 'MS Gothic' not found.\n",
            "WARNING:matplotlib.font_manager:findfont: Font family 'MS Gothic' not found.\n",
            "WARNING:matplotlib.font_manager:findfont: Font family 'MS Gothic' not found.\n",
            "WARNING:matplotlib.font_manager:findfont: Font family 'MS Gothic' not found.\n",
            "WARNING:matplotlib.font_manager:findfont: Font family 'MS Gothic' not found.\n",
            "WARNING:matplotlib.font_manager:findfont: Font family 'MS Gothic' not found.\n",
            "/usr/local/lib/python3.12/dist-packages/IPython/core/pylabtools.py:151: UserWarning: Glyph 12394 (\\N{HIRAGANA LETTER NA}) missing from font(s) DejaVu Sans.\n",
            "  fig.canvas.print_figure(bytes_io, **kw)\n",
            "/usr/local/lib/python3.12/dist-packages/IPython/core/pylabtools.py:151: UserWarning: Glyph 12375 (\\N{HIRAGANA LETTER SI}) missing from font(s) DejaVu Sans.\n",
            "  fig.canvas.print_figure(bytes_io, **kw)\n",
            "WARNING:matplotlib.font_manager:findfont: Font family 'MS Gothic' not found.\n",
            "WARNING:matplotlib.font_manager:findfont: Font family 'MS Gothic' not found.\n",
            "/usr/local/lib/python3.12/dist-packages/IPython/core/pylabtools.py:151: UserWarning: Glyph 12354 (\\N{HIRAGANA LETTER A}) missing from font(s) DejaVu Sans.\n",
            "  fig.canvas.print_figure(bytes_io, **kw)\n",
            "/usr/local/lib/python3.12/dist-packages/IPython/core/pylabtools.py:151: UserWarning: Glyph 12426 (\\N{HIRAGANA LETTER RI}) missing from font(s) DejaVu Sans.\n",
            "  fig.canvas.print_figure(bytes_io, **kw)\n",
            "WARNING:matplotlib.font_manager:findfont: Font family 'MS Gothic' not found.\n",
            "WARNING:matplotlib.font_manager:findfont: Font family 'MS Gothic' not found.\n",
            "/usr/local/lib/python3.12/dist-packages/IPython/core/pylabtools.py:151: UserWarning: Glyph 28961 (\\N{CJK UNIFIED IDEOGRAPH-7121}) missing from font(s) DejaVu Sans.\n",
            "  fig.canvas.print_figure(bytes_io, **kw)\n",
            "WARNING:matplotlib.font_manager:findfont: Font family 'MS Gothic' not found.\n",
            "WARNING:matplotlib.font_manager:findfont: Font family 'MS Gothic' not found.\n",
            "WARNING:matplotlib.font_manager:findfont: Font family 'MS Gothic' not found.\n",
            "WARNING:matplotlib.font_manager:findfont: Font family 'MS Gothic' not found.\n",
            "WARNING:matplotlib.font_manager:findfont: Font family 'MS Gothic' not found.\n",
            "WARNING:matplotlib.font_manager:findfont: Font family 'MS Gothic' not found.\n",
            "WARNING:matplotlib.font_manager:findfont: Font family 'MS Gothic' not found.\n",
            "WARNING:matplotlib.font_manager:findfont: Font family 'MS Gothic' not found.\n",
            "WARNING:matplotlib.font_manager:findfont: Font family 'MS Gothic' not found.\n",
            "WARNING:matplotlib.font_manager:findfont: Font family 'MS Gothic' not found.\n",
            "WARNING:matplotlib.font_manager:findfont: Font family 'MS Gothic' not found.\n",
            "WARNING:matplotlib.font_manager:findfont: Font family 'MS Gothic' not found.\n",
            "WARNING:matplotlib.font_manager:findfont: Font family 'MS Gothic' not found.\n",
            "WARNING:matplotlib.font_manager:findfont: Font family 'MS Gothic' not found.\n",
            "WARNING:matplotlib.font_manager:findfont: Font family 'MS Gothic' not found.\n",
            "WARNING:matplotlib.font_manager:findfont: Font family 'MS Gothic' not found.\n",
            "WARNING:matplotlib.font_manager:findfont: Font family 'MS Gothic' not found.\n"
          ]
        },
        {
          "output_type": "display_data",
          "data": {
            "text/plain": [
              "<Figure size 800x500 with 1 Axes>"
            ],
            "image/png": "[encoded data removed]"
          },
          "metadata": {}
        }
      ]
    },
    {
      "cell_type": "code",
      "source": [
        "#afgan[\"violent.exp.ISAF\"].apply(categorize_damage)\n",
        "#は、\n",
        "#「violent.exp.ISAF 列の各値に、categorize_damage() 関数を1つずつ適用する」\n",
        "#という意味です。\n"
      ],
      "metadata": {
        "id": "pHgFFF69jRWb"
      },
      "execution_count": 6,
      "outputs": []
    },
    {
      "cell_type": "code",
      "source": [
        "value = afgan[\"violent.exp.ISAF\"].iloc[10]"
      ],
      "metadata": {
        "id": "EyfHIEQ8lrvq"
      },
      "execution_count": 11,
      "outputs": []
    },
    {
      "cell_type": "code",
      "source": [
        "# categorize_damage関数で分類\n",
        "result = categorize_damage(value)\n",
        "\n",
        "# 入力と出力を印字\n",
        "print(\"元の値:\", value)\n",
        "print(\"分類結果:\", result)"
      ],
      "metadata": {
        "colab": {
          "base_uri": "https://localhost:8080/"
        },
        "id": "M9OXqI1Xlugo",
        "outputId": "7dbe7711-815c-4e5c-903f-5cf80280cfcf"
      },
      "execution_count": 12,
      "outputs": [
        {
          "output_type": "stream",
          "name": "stdout",
          "text": [
            "元の値: 1.0\n",
            "分類結果: 被害あり\n"
          ]
        }
      ]
    }
  ]
}