{
  "nbformat": 4,
  "nbformat_minor": 0,
  "metadata": {
    "colab": {
      "provenance": [],
      "authorship_tag": "ABX9TyP5puoxtrogIJeO8yl0ApXl",
      "include_colab_link": true
    },
    "kernelspec": {
      "name": "python3",
      "display_name": "Python 3"
    },
    "language_info": {
      "name": "python"
    }
  },
  "cells": [
    {
      "cell_type": "markdown",
      "metadata": {
        "id": "view-in-github",
        "colab_type": "text"
      },
      "source": [
        "<a href=\"https://colab.research.google.com/github/tabatalond/tabatalond/blob/main/2025_class_10_28.ipynb\" target=\"_parent\"><img src=\"https://colab.research.google.com/assets/colab-badge.svg\" alt=\"Open In Colab\"/></a>"
      ]
    },
    {
      "cell_type": "code",
      "execution_count": null,
      "metadata": {
        "id": "HKbxI8UndOP3"
      },
      "outputs": [],
      "source": [
        "import pandas as pd"
      ]
    },
    {
      "cell_type": "code",
      "source": [
        "afgan=pd.read_csv(\"/content/afghan.csv\")"
      ],
      "metadata": {
        "id": "C20udMY3d4y4"
      },
      "execution_count": null,
      "outputs": []
    },
    {
      "cell_type": "code",
      "source": [
        "# 各列ごとの欠損値数を表示\n",
        "print(\"各列の欠損値数:\")\n",
        "print(afgan.isnull().sum())"
      ],
      "metadata": {
        "id": "VBBMeNzXehKw",
        "outputId": "157db61e-5094-4eb3-ca48-06913a5254c1",
        "colab": {
          "base_uri": "https://localhost:8080/"
        }
      },
      "execution_count": null,
      "outputs": [
        {
          "output_type": "stream",
          "name": "stdout",
          "text": [
            "各列の欠損値数:\n",
            "province                 0\n",
            "district                 0\n",
            "village.id               0\n",
            "age                      0\n",
            "educ.years               0\n",
            "employed                 0\n",
            "income                 154\n",
            "violent.exp.ISAF        25\n",
            "violent.exp.taliban     54\n",
            "list.group               0\n",
            "list.response            0\n",
            "dtype: int64\n"
          ]
        }
      ]
    },
    {
      "cell_type": "code",
      "source": [
        "# listwise　除去\n",
        "# 欠損値を含む行を削除（リストワイズ除去）\n",
        "afgan.dropna(inplace=True)\n",
        "\n",
        "# 結果の確認\n",
        "print(\"除去後の行数:\", len(afgan))\n"
      ],
      "metadata": {
        "id": "_J3NPZBXfnDn",
        "outputId": "b86a43ba-1df4-4116-a633-52c38ae0a250",
        "colab": {
          "base_uri": "https://localhost:8080/"
        }
      },
      "execution_count": null,
      "outputs": [
        {
          "output_type": "stream",
          "name": "stdout",
          "text": [
            "除去後の行数: 2554\n"
          ]
        }
      ]
    }
  ]
}