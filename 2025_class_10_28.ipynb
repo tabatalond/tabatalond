{
  "nbformat": 4,
  "nbformat_minor": 0,
  "metadata": {
    "colab": {
      "provenance": [],
      "authorship_tag": "ABX9TyM1VLjnLBLbiA2GCKfU68/e",
      "include_colab_link": true
    },
    "kernelspec": {
      "name": "python3",
      "display_name": "Python 3"
    },
    "language_info": {
      "name": "python"
    }
  },
  "cells": [
    {
      "cell_type": "markdown",
      "metadata": {
        "id": "view-in-github",
        "colab_type": "text"
      },
      "source": [
        "<a href=\"https://colab.research.google.com/github/tabatalond/tabatalond/blob/main/2025_class_10_28.ipynb\" target=\"_parent\"><img src=\"https://colab.research.google.com/assets/colab-badge.svg\" alt=\"Open In Colab\"/></a>"
      ]
    },
    {
      "cell_type": "code",
      "execution_count": null,
      "metadata": {
        "id": "HKbxI8UndOP3"
      },
      "outputs": [],
      "source": [
        "import pandas as pd\n",
        "import matplotlib.pyplot as plt"
      ]
    },
    {
      "cell_type": "code",
      "source": [
        "afgan=pd.read_csv(\"/content/afghan.csv\")"
      ],
      "metadata": {
        "id": "C20udMY3d4y4"
      },
      "execution_count": null,
      "outputs": []
    },
    {
      "cell_type": "code",
      "source": [
        "# 各列ごとの欠損値数を表示\n",
        "print(\"各列の欠損値数:\")\n",
        "print(afgan.isnull().sum())"
      ],
      "metadata": {
        "id": "VBBMeNzXehKw",
        "outputId": "157db61e-5094-4eb3-ca48-06913a5254c1",
        "colab": {
          "base_uri": "https://localhost:8080/"
        }
      },
      "execution_count": null,
      "outputs": [
        {
          "output_type": "stream",
          "name": "stdout",
          "text": [
            "各列の欠損値数:\n",
            "province                 0\n",
            "district                 0\n",
            "village.id               0\n",
            "age                      0\n",
            "educ.years               0\n",
            "employed                 0\n",
            "income                 154\n",
            "violent.exp.ISAF        25\n",
            "violent.exp.taliban     54\n",
            "list.group               0\n",
            "list.response            0\n",
            "dtype: int64\n"
          ]
        }
      ]
    },
    {
      "cell_type": "code",
      "source": [
        "# listwise　除去\n",
        "# 欠損値を含む行を削除（リストワイズ除去）\n",
        "afgan.dropna(inplace=True)\n",
        "\n",
        "# 結果の確認\n",
        "print(\"除去後の行数:\", len(afgan))\n"
      ],
      "metadata": {
        "id": "_J3NPZBXfnDn",
        "outputId": "b86a43ba-1df4-4116-a633-52c38ae0a250",
        "colab": {
          "base_uri": "https://localhost:8080/"
        }
      },
      "execution_count": null,
      "outputs": [
        {
          "output_type": "stream",
          "name": "stdout",
          "text": [
            "除去後の行数: 2554\n"
          ]
        }
      ]
    },
    {
      "cell_type": "code",
      "source": [
        "import pandas as pd\n",
        "import matplotlib.pyplot as plt\n",
        "\n",
        "# データ読み込み\n",
        "afgan = pd.read_csv(\"/content/afghan.csv\")\n",
        "\n",
        "# === 欠損を含めたカテゴリーを作成 ===\n",
        "def categorize_damage(x):\n",
        "    if pd.isna(x):\n",
        "        return \"回答無\"\n",
        "    elif x == 1:\n",
        "        return \"被害あり\"\n",
        "    else:\n",
        "        return \"被害なし\"\n",
        "\n",
        "afgan[\"ISAF_status\"] = afgan[\"violent.exp.ISAF\"].apply(categorize_damage)\n",
        "afgan[\"Taliban_status\"] = afgan[\"violent.exp.taliban\"].apply(categorize_damage)\n",
        "\n",
        "# === 割合（％）計算 ===\n",
        "isaf_ratio = afgan[\"ISAF_status\"].value_counts(normalize=True) * 100\n",
        "taliban_ratio = afgan[\"Taliban_status\"].value_counts(normalize=True) * 100\n",
        "\n",
        "# データフレーム化して並べる\n",
        "df_ratio = pd.DataFrame({\n",
        "    \"ISAF\": isaf_ratio,\n",
        "    \"Taliban\": taliban_ratio\n",
        "}).T  # 行と列を入れ替えて見やすく\n",
        "\n",
        "print(\"各グループの回答者比率（％）:\")\n",
        "print(df_ratio)\n",
        "\n",
        "# === 可視化 ===\n",
        "df_ratio.plot(kind=\"bar\", stacked=False, figsize=(8,5))\n",
        "plt.title(\"ISAFとタリバンに対する被害経験比率\")\n",
        "plt.ylabel(\"回答者比率（％）\")\n",
        "plt.xlabel(\"グループ\")\n",
        "plt.xticks(rotation=0)\n",
        "plt.legend(title=\"被害経験\")\n",
        "plt.grid(axis=\"y\", linestyle=\"--\", alpha=0.7)\n",
        "plt.tight_layout()\n",
        "plt.show()\n"
      ],
      "metadata": {
        "id": "kH-lb2sOhpFN"
      },
      "execution_count": null,
      "outputs": []
    },
    {
      "cell_type": "code",
      "source": [
        "#afgan[\"violent.exp.ISAF\"].apply(categorize_damage)\n",
        "#は、\n",
        "#「violent.exp.ISAF 列の各値に、categorize_damage() 関数を1つずつ適用する」\n",
        "#という意味です。\n"
      ],
      "metadata": {
        "id": "pHgFFF69jRWb"
      },
      "execution_count": null,
      "outputs": []
    }
  ]
}